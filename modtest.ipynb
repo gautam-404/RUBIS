{
 "cells": [
  {
   "cell_type": "code",
   "execution_count": 1,
   "metadata": {},
   "outputs": [],
   "source": [
    "from rubis_mod import *\n",
    "import pandas as pd\n",
    "import numpy as np"
   ]
  },
  {
   "cell_type": "code",
   "execution_count": 7,
   "metadata": {},
   "outputs": [],
   "source": [
    "obj = RUBISmod(name='profiles_m1.7_z0.016_v8', data_format='GSM')"
   ]
  },
  {
   "cell_type": "code",
   "execution_count": 44,
   "metadata": {},
   "outputs": [
    {
     "data": {
      "text/plain": [
       "'profiles_m1.7_z0.016_v8/profile2300.data.GSM'"
      ]
     },
     "execution_count": 44,
     "metadata": {},
     "output_type": "execute_result"
    }
   ],
   "source": [
    "obj.profiles[2299]"
   ]
  },
  {
   "cell_type": "code",
   "execution_count": 46,
   "metadata": {},
   "outputs": [
    {
     "name": "stdout",
     "output_type": "stream",
     "text": [
      "\n",
      "+---------------------+ \n",
      "| Deformation started | \n",
      "+---------------------+\n",
      "\n",
      "Iteration n°01, R_pol = 0.9965878362\n",
      "Iteration n°02, R_pol = 0.9864747345\n",
      "Iteration n°03, R_pol = 0.9700484201\n",
      "Iteration n°04, R_pol = 0.9699767726\n",
      "Iteration n°05, R_pol = 0.9699697889\n",
      "Iteration n°06, R_pol = 0.9699679624\n",
      "Iteration n°07, R_pol = 0.9699673705\n",
      "Iteration n°08, R_pol = 0.9699671325\n",
      "Iteration n°09, R_pol = 0.969967034\n",
      "Iteration n°10, R_pol = 0.9699669922\n",
      "Iteration n°11, R_pol = 0.9699669741\n",
      "Iteration n°12, R_pol = 0.9699669663\n",
      "Iteration n°13, R_pol = 0.9699669629\n",
      "Iteration n°14, R_pol = 0.9699669614\n",
      "Iteration n°15, R_pol = 0.9699669607\n",
      "Iteration n°16, R_pol = 0.9699669605\n",
      "Iteration n°17, R_pol = 0.9699669603\n",
      "Iteration n°18, R_pol = 0.9699669603\n",
      "\n",
      "+------------------+ \n",
      "| Deformation done | \n",
      "+------------------+\n",
      "\n",
      "Time taken: 8.97 secs\n",
      "Kinetic energy  : 0.0009190690\n",
      "Internal energy : 0.8664140278\n",
      "Potential energy: 5.2021604200\n",
      "Surface term    : 0.0000000000\n",
      "Virial theorem verified at 2.1871115e-09\n"
     ]
    }
   ],
   "source": [
    "df, header = obj.run_rubis(profile=obj.profiles[2299], angular_resolution=201, save_model=True, \n",
    "                           show_model=False, show_T_eff=False, show_harmonics=False, write_to_log=False)"
   ]
  },
  {
   "cell_type": "code",
   "execution_count": null,
   "metadata": {},
   "outputs": [],
   "source": [
    "# obj.create_rubis_profiles(angular_resolution=201, n_processes=5, save_model=True, show_model=False, \n",
    "#                           show_T_eff=False, show_harmonics=False, write_to_log=True)"
   ]
  },
  {
   "cell_type": "code",
   "execution_count": null,
   "metadata": {},
   "outputs": [],
   "source": []
  }
 ],
 "metadata": {
  "kernelspec": {
   "display_name": "3.11.7",
   "language": "python",
   "name": "python3"
  },
  "language_info": {
   "codemirror_mode": {
    "name": "ipython",
    "version": 3
   },
   "file_extension": ".py",
   "mimetype": "text/x-python",
   "name": "python",
   "nbconvert_exporter": "python",
   "pygments_lexer": "ipython3",
   "version": "3.11.7"
  },
  "orig_nbformat": 4
 },
 "nbformat": 4,
 "nbformat_minor": 2
}
